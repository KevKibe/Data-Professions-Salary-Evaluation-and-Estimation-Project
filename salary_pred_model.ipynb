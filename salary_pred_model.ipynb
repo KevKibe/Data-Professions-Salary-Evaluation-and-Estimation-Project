{
  "cells": [
    {
      "cell_type": "code",
      "execution_count": 1,
      "id": "aad0542b-d616-4cdc-86d6-d6eaacea8dca",
      "metadata": {
        "id": "aad0542b-d616-4cdc-86d6-d6eaacea8dca"
      },
      "outputs": [],
      "source": [
        "import pandas as pd\n",
        "import numpy as np"
      ]
    },
    {
      "cell_type": "code",
      "execution_count": 109,
      "id": "b5c36b38-57c4-492c-9440-abb352f3357e",
      "metadata": {
        "colab": {
          "base_uri": "https://localhost:8080/",
          "height": 267
        },
        "id": "b5c36b38-57c4-492c-9440-abb352f3357e",
        "outputId": "e4cb419b-ef3c-4967-9bf7-36d76588006d"
      },
      "outputs": [
        {
          "output_type": "execute_result",
          "data": {
            "text/plain": [
              "   work_year experience_level employment_type                  job_title  \\\n",
              "0       2023               SE              FT              data engineer   \n",
              "1       2023               SE              FT              data engineer   \n",
              "2       2023               MI              FT               data analyst   \n",
              "3       2023               MI              FT               data analyst   \n",
              "4       2023               SE              FT  machine learning engineer   \n",
              "\n",
              "   salary salary_currency  salary_in_usd employee_residence  remote_ratio  \\\n",
              "0  196000             USD         196000                 US             0   \n",
              "1  121000             USD         121000                 US             0   \n",
              "2   65000             USD          65000                 US           100   \n",
              "3   55000             USD          55000                 US           100   \n",
              "4  220000             USD         220000                 US           100   \n",
              "\n",
              "  company_location company_size  \n",
              "0               US            M  \n",
              "1               US            M  \n",
              "2               US            M  \n",
              "3               US            M  \n",
              "4               US            M  "
            ],
            "text/html": [
              "\n",
              "  <div id=\"df-39e2e0fb-d08d-406b-80d3-bff8637102f2\">\n",
              "    <div class=\"colab-df-container\">\n",
              "      <div>\n",
              "<style scoped>\n",
              "    .dataframe tbody tr th:only-of-type {\n",
              "        vertical-align: middle;\n",
              "    }\n",
              "\n",
              "    .dataframe tbody tr th {\n",
              "        vertical-align: top;\n",
              "    }\n",
              "\n",
              "    .dataframe thead th {\n",
              "        text-align: right;\n",
              "    }\n",
              "</style>\n",
              "<table border=\"1\" class=\"dataframe\">\n",
              "  <thead>\n",
              "    <tr style=\"text-align: right;\">\n",
              "      <th></th>\n",
              "      <th>work_year</th>\n",
              "      <th>experience_level</th>\n",
              "      <th>employment_type</th>\n",
              "      <th>job_title</th>\n",
              "      <th>salary</th>\n",
              "      <th>salary_currency</th>\n",
              "      <th>salary_in_usd</th>\n",
              "      <th>employee_residence</th>\n",
              "      <th>remote_ratio</th>\n",
              "      <th>company_location</th>\n",
              "      <th>company_size</th>\n",
              "    </tr>\n",
              "  </thead>\n",
              "  <tbody>\n",
              "    <tr>\n",
              "      <th>0</th>\n",
              "      <td>2023</td>\n",
              "      <td>SE</td>\n",
              "      <td>FT</td>\n",
              "      <td>data engineer</td>\n",
              "      <td>196000</td>\n",
              "      <td>USD</td>\n",
              "      <td>196000</td>\n",
              "      <td>US</td>\n",
              "      <td>0</td>\n",
              "      <td>US</td>\n",
              "      <td>M</td>\n",
              "    </tr>\n",
              "    <tr>\n",
              "      <th>1</th>\n",
              "      <td>2023</td>\n",
              "      <td>SE</td>\n",
              "      <td>FT</td>\n",
              "      <td>data engineer</td>\n",
              "      <td>121000</td>\n",
              "      <td>USD</td>\n",
              "      <td>121000</td>\n",
              "      <td>US</td>\n",
              "      <td>0</td>\n",
              "      <td>US</td>\n",
              "      <td>M</td>\n",
              "    </tr>\n",
              "    <tr>\n",
              "      <th>2</th>\n",
              "      <td>2023</td>\n",
              "      <td>MI</td>\n",
              "      <td>FT</td>\n",
              "      <td>data analyst</td>\n",
              "      <td>65000</td>\n",
              "      <td>USD</td>\n",
              "      <td>65000</td>\n",
              "      <td>US</td>\n",
              "      <td>100</td>\n",
              "      <td>US</td>\n",
              "      <td>M</td>\n",
              "    </tr>\n",
              "    <tr>\n",
              "      <th>3</th>\n",
              "      <td>2023</td>\n",
              "      <td>MI</td>\n",
              "      <td>FT</td>\n",
              "      <td>data analyst</td>\n",
              "      <td>55000</td>\n",
              "      <td>USD</td>\n",
              "      <td>55000</td>\n",
              "      <td>US</td>\n",
              "      <td>100</td>\n",
              "      <td>US</td>\n",
              "      <td>M</td>\n",
              "    </tr>\n",
              "    <tr>\n",
              "      <th>4</th>\n",
              "      <td>2023</td>\n",
              "      <td>SE</td>\n",
              "      <td>FT</td>\n",
              "      <td>machine learning engineer</td>\n",
              "      <td>220000</td>\n",
              "      <td>USD</td>\n",
              "      <td>220000</td>\n",
              "      <td>US</td>\n",
              "      <td>100</td>\n",
              "      <td>US</td>\n",
              "      <td>M</td>\n",
              "    </tr>\n",
              "  </tbody>\n",
              "</table>\n",
              "</div>\n",
              "      <button class=\"colab-df-convert\" onclick=\"convertToInteractive('df-39e2e0fb-d08d-406b-80d3-bff8637102f2')\"\n",
              "              title=\"Convert this dataframe to an interactive table.\"\n",
              "              style=\"display:none;\">\n",
              "        \n",
              "  <svg xmlns=\"http://www.w3.org/2000/svg\" height=\"24px\"viewBox=\"0 0 24 24\"\n",
              "       width=\"24px\">\n",
              "    <path d=\"M0 0h24v24H0V0z\" fill=\"none\"/>\n",
              "    <path d=\"M18.56 5.44l.94 2.06.94-2.06 2.06-.94-2.06-.94-.94-2.06-.94 2.06-2.06.94zm-11 1L8.5 8.5l.94-2.06 2.06-.94-2.06-.94L8.5 2.5l-.94 2.06-2.06.94zm10 10l.94 2.06.94-2.06 2.06-.94-2.06-.94-.94-2.06-.94 2.06-2.06.94z\"/><path d=\"M17.41 7.96l-1.37-1.37c-.4-.4-.92-.59-1.43-.59-.52 0-1.04.2-1.43.59L10.3 9.45l-7.72 7.72c-.78.78-.78 2.05 0 2.83L4 21.41c.39.39.9.59 1.41.59.51 0 1.02-.2 1.41-.59l7.78-7.78 2.81-2.81c.8-.78.8-2.07 0-2.86zM5.41 20L4 18.59l7.72-7.72 1.47 1.35L5.41 20z\"/>\n",
              "  </svg>\n",
              "      </button>\n",
              "      \n",
              "  <style>\n",
              "    .colab-df-container {\n",
              "      display:flex;\n",
              "      flex-wrap:wrap;\n",
              "      gap: 12px;\n",
              "    }\n",
              "\n",
              "    .colab-df-convert {\n",
              "      background-color: #E8F0FE;\n",
              "      border: none;\n",
              "      border-radius: 50%;\n",
              "      cursor: pointer;\n",
              "      display: none;\n",
              "      fill: #1967D2;\n",
              "      height: 32px;\n",
              "      padding: 0 0 0 0;\n",
              "      width: 32px;\n",
              "    }\n",
              "\n",
              "    .colab-df-convert:hover {\n",
              "      background-color: #E2EBFA;\n",
              "      box-shadow: 0px 1px 2px rgba(60, 64, 67, 0.3), 0px 1px 3px 1px rgba(60, 64, 67, 0.15);\n",
              "      fill: #174EA6;\n",
              "    }\n",
              "\n",
              "    [theme=dark] .colab-df-convert {\n",
              "      background-color: #3B4455;\n",
              "      fill: #D2E3FC;\n",
              "    }\n",
              "\n",
              "    [theme=dark] .colab-df-convert:hover {\n",
              "      background-color: #434B5C;\n",
              "      box-shadow: 0px 1px 3px 1px rgba(0, 0, 0, 0.15);\n",
              "      filter: drop-shadow(0px 1px 2px rgba(0, 0, 0, 0.3));\n",
              "      fill: #FFFFFF;\n",
              "    }\n",
              "  </style>\n",
              "\n",
              "      <script>\n",
              "        const buttonEl =\n",
              "          document.querySelector('#df-39e2e0fb-d08d-406b-80d3-bff8637102f2 button.colab-df-convert');\n",
              "        buttonEl.style.display =\n",
              "          google.colab.kernel.accessAllowed ? 'block' : 'none';\n",
              "\n",
              "        async function convertToInteractive(key) {\n",
              "          const element = document.querySelector('#df-39e2e0fb-d08d-406b-80d3-bff8637102f2');\n",
              "          const dataTable =\n",
              "            await google.colab.kernel.invokeFunction('convertToInteractive',\n",
              "                                                     [key], {});\n",
              "          if (!dataTable) return;\n",
              "\n",
              "          const docLinkHtml = 'Like what you see? Visit the ' +\n",
              "            '<a target=\"_blank\" href=https://colab.research.google.com/notebooks/data_table.ipynb>data table notebook</a>'\n",
              "            + ' to learn more about interactive tables.';\n",
              "          element.innerHTML = '';\n",
              "          dataTable['output_type'] = 'display_data';\n",
              "          await google.colab.output.renderOutput(dataTable, element);\n",
              "          const docLink = document.createElement('div');\n",
              "          docLink.innerHTML = docLinkHtml;\n",
              "          element.appendChild(docLink);\n",
              "        }\n",
              "      </script>\n",
              "    </div>\n",
              "  </div>\n",
              "  "
            ]
          },
          "metadata": {},
          "execution_count": 109
        }
      ],
      "source": [
        "#file_path = \"gs://cloud-ai-platform-5734b953-00ea-4818-b5b7-3420cd51a628/salaries_new.csv\"\n",
        "df= pd.read_csv('/content/salaries_new.csv')\n",
        "df.head()"
      ]
    },
    {
      "cell_type": "code",
      "source": [
        "df.info()"
      ],
      "metadata": {
        "colab": {
          "base_uri": "https://localhost:8080/"
        },
        "id": "lNaGMeqK1t8R",
        "outputId": "54f786d6-f8cd-46e3-9c4c-c5806e3fc2f1"
      },
      "id": "lNaGMeqK1t8R",
      "execution_count": 110,
      "outputs": [
        {
          "output_type": "stream",
          "name": "stdout",
          "text": [
            "<class 'pandas.core.frame.DataFrame'>\n",
            "RangeIndex: 3378 entries, 0 to 3377\n",
            "Data columns (total 11 columns):\n",
            " #   Column              Non-Null Count  Dtype \n",
            "---  ------              --------------  ----- \n",
            " 0   work_year           3378 non-null   int64 \n",
            " 1   experience_level    3378 non-null   object\n",
            " 2   employment_type     3378 non-null   object\n",
            " 3   job_title           3378 non-null   object\n",
            " 4   salary              3378 non-null   int64 \n",
            " 5   salary_currency     3378 non-null   object\n",
            " 6   salary_in_usd       3378 non-null   int64 \n",
            " 7   employee_residence  3378 non-null   object\n",
            " 8   remote_ratio        3378 non-null   int64 \n",
            " 9   company_location    3378 non-null   object\n",
            " 10  company_size        3378 non-null   object\n",
            "dtypes: int64(4), object(7)\n",
            "memory usage: 290.4+ KB\n"
          ]
        }
      ]
    },
    {
      "cell_type": "markdown",
      "id": "6dcfae2c-1058-4a68-8bdf-203100f9b6f4",
      "metadata": {
        "id": "6dcfae2c-1058-4a68-8bdf-203100f9b6f4"
      },
      "source": [
        "# Data Preprocessing"
      ]
    },
    {
      "cell_type": "code",
      "source": [
        "!pip install -q pycountry-convert"
      ],
      "metadata": {
        "id": "fS3PRE1y0YIv"
      },
      "id": "fS3PRE1y0YIv",
      "execution_count": 111,
      "outputs": []
    },
    {
      "cell_type": "code",
      "source": [
        "import pycountry_convert as pc\n",
        "\n",
        "def get_continent(col):\n",
        "    try:\n",
        "        if len(col) == 2:\n",
        "            country_code = col\n",
        "        else:\n",
        "            country_code = pc.country_name_to_country_alpha2(col.strip('\\'\"'))\n",
        "        continent_name = pc.convert_continent_code_to_continent_name(pc.country_alpha2_to_continent_code(country_code))\n",
        "        return continent_name\n",
        "    except:\n",
        "        return None\n",
        "\n",
        "df['company_location']=df['company_location'].apply(lambda x: get_continent(x))\n",
        "df['employee_residence']=df['employee_residence'].apply(lambda x: get_continent(x))\n",
        "\n"
      ],
      "metadata": {
        "id": "em4qol72-x9L"
      },
      "id": "em4qol72-x9L",
      "execution_count": 112,
      "outputs": []
    },
    {
      "cell_type": "code",
      "execution_count": 113,
      "id": "e7f090c9-b7a0-47a8-ae2b-e7a8044200ef",
      "metadata": {
        "colab": {
          "base_uri": "https://localhost:8080/",
          "height": 206
        },
        "id": "e7f090c9-b7a0-47a8-ae2b-e7a8044200ef",
        "outputId": "dabed002-845d-43d6-95b4-634f7523abd1"
      },
      "outputs": [
        {
          "output_type": "execute_result",
          "data": {
            "text/plain": [
              "   work_year experience_level employment_type                  job_title  \\\n",
              "0       2023               SE              FT              data engineer   \n",
              "1       2023               SE              FT              data engineer   \n",
              "2       2023               MI              FT               data analyst   \n",
              "3       2023               MI              FT               data analyst   \n",
              "4       2023               SE              FT  machine learning engineer   \n",
              "\n",
              "   salary_in_usd employee_residence company_location company_size  \n",
              "0         196000      North America    North America            M  \n",
              "1         121000      North America    North America            M  \n",
              "2          65000      North America    North America            M  \n",
              "3          55000      North America    North America            M  \n",
              "4         220000      North America    North America            M  "
            ],
            "text/html": [
              "\n",
              "  <div id=\"df-d599ba3c-ab8b-4c79-995a-92d7d4f3b19e\">\n",
              "    <div class=\"colab-df-container\">\n",
              "      <div>\n",
              "<style scoped>\n",
              "    .dataframe tbody tr th:only-of-type {\n",
              "        vertical-align: middle;\n",
              "    }\n",
              "\n",
              "    .dataframe tbody tr th {\n",
              "        vertical-align: top;\n",
              "    }\n",
              "\n",
              "    .dataframe thead th {\n",
              "        text-align: right;\n",
              "    }\n",
              "</style>\n",
              "<table border=\"1\" class=\"dataframe\">\n",
              "  <thead>\n",
              "    <tr style=\"text-align: right;\">\n",
              "      <th></th>\n",
              "      <th>work_year</th>\n",
              "      <th>experience_level</th>\n",
              "      <th>employment_type</th>\n",
              "      <th>job_title</th>\n",
              "      <th>salary_in_usd</th>\n",
              "      <th>employee_residence</th>\n",
              "      <th>company_location</th>\n",
              "      <th>company_size</th>\n",
              "    </tr>\n",
              "  </thead>\n",
              "  <tbody>\n",
              "    <tr>\n",
              "      <th>0</th>\n",
              "      <td>2023</td>\n",
              "      <td>SE</td>\n",
              "      <td>FT</td>\n",
              "      <td>data engineer</td>\n",
              "      <td>196000</td>\n",
              "      <td>North America</td>\n",
              "      <td>North America</td>\n",
              "      <td>M</td>\n",
              "    </tr>\n",
              "    <tr>\n",
              "      <th>1</th>\n",
              "      <td>2023</td>\n",
              "      <td>SE</td>\n",
              "      <td>FT</td>\n",
              "      <td>data engineer</td>\n",
              "      <td>121000</td>\n",
              "      <td>North America</td>\n",
              "      <td>North America</td>\n",
              "      <td>M</td>\n",
              "    </tr>\n",
              "    <tr>\n",
              "      <th>2</th>\n",
              "      <td>2023</td>\n",
              "      <td>MI</td>\n",
              "      <td>FT</td>\n",
              "      <td>data analyst</td>\n",
              "      <td>65000</td>\n",
              "      <td>North America</td>\n",
              "      <td>North America</td>\n",
              "      <td>M</td>\n",
              "    </tr>\n",
              "    <tr>\n",
              "      <th>3</th>\n",
              "      <td>2023</td>\n",
              "      <td>MI</td>\n",
              "      <td>FT</td>\n",
              "      <td>data analyst</td>\n",
              "      <td>55000</td>\n",
              "      <td>North America</td>\n",
              "      <td>North America</td>\n",
              "      <td>M</td>\n",
              "    </tr>\n",
              "    <tr>\n",
              "      <th>4</th>\n",
              "      <td>2023</td>\n",
              "      <td>SE</td>\n",
              "      <td>FT</td>\n",
              "      <td>machine learning engineer</td>\n",
              "      <td>220000</td>\n",
              "      <td>North America</td>\n",
              "      <td>North America</td>\n",
              "      <td>M</td>\n",
              "    </tr>\n",
              "  </tbody>\n",
              "</table>\n",
              "</div>\n",
              "      <button class=\"colab-df-convert\" onclick=\"convertToInteractive('df-d599ba3c-ab8b-4c79-995a-92d7d4f3b19e')\"\n",
              "              title=\"Convert this dataframe to an interactive table.\"\n",
              "              style=\"display:none;\">\n",
              "        \n",
              "  <svg xmlns=\"http://www.w3.org/2000/svg\" height=\"24px\"viewBox=\"0 0 24 24\"\n",
              "       width=\"24px\">\n",
              "    <path d=\"M0 0h24v24H0V0z\" fill=\"none\"/>\n",
              "    <path d=\"M18.56 5.44l.94 2.06.94-2.06 2.06-.94-2.06-.94-.94-2.06-.94 2.06-2.06.94zm-11 1L8.5 8.5l.94-2.06 2.06-.94-2.06-.94L8.5 2.5l-.94 2.06-2.06.94zm10 10l.94 2.06.94-2.06 2.06-.94-2.06-.94-.94-2.06-.94 2.06-2.06.94z\"/><path d=\"M17.41 7.96l-1.37-1.37c-.4-.4-.92-.59-1.43-.59-.52 0-1.04.2-1.43.59L10.3 9.45l-7.72 7.72c-.78.78-.78 2.05 0 2.83L4 21.41c.39.39.9.59 1.41.59.51 0 1.02-.2 1.41-.59l7.78-7.78 2.81-2.81c.8-.78.8-2.07 0-2.86zM5.41 20L4 18.59l7.72-7.72 1.47 1.35L5.41 20z\"/>\n",
              "  </svg>\n",
              "      </button>\n",
              "      \n",
              "  <style>\n",
              "    .colab-df-container {\n",
              "      display:flex;\n",
              "      flex-wrap:wrap;\n",
              "      gap: 12px;\n",
              "    }\n",
              "\n",
              "    .colab-df-convert {\n",
              "      background-color: #E8F0FE;\n",
              "      border: none;\n",
              "      border-radius: 50%;\n",
              "      cursor: pointer;\n",
              "      display: none;\n",
              "      fill: #1967D2;\n",
              "      height: 32px;\n",
              "      padding: 0 0 0 0;\n",
              "      width: 32px;\n",
              "    }\n",
              "\n",
              "    .colab-df-convert:hover {\n",
              "      background-color: #E2EBFA;\n",
              "      box-shadow: 0px 1px 2px rgba(60, 64, 67, 0.3), 0px 1px 3px 1px rgba(60, 64, 67, 0.15);\n",
              "      fill: #174EA6;\n",
              "    }\n",
              "\n",
              "    [theme=dark] .colab-df-convert {\n",
              "      background-color: #3B4455;\n",
              "      fill: #D2E3FC;\n",
              "    }\n",
              "\n",
              "    [theme=dark] .colab-df-convert:hover {\n",
              "      background-color: #434B5C;\n",
              "      box-shadow: 0px 1px 3px 1px rgba(0, 0, 0, 0.15);\n",
              "      filter: drop-shadow(0px 1px 2px rgba(0, 0, 0, 0.3));\n",
              "      fill: #FFFFFF;\n",
              "    }\n",
              "  </style>\n",
              "\n",
              "      <script>\n",
              "        const buttonEl =\n",
              "          document.querySelector('#df-d599ba3c-ab8b-4c79-995a-92d7d4f3b19e button.colab-df-convert');\n",
              "        buttonEl.style.display =\n",
              "          google.colab.kernel.accessAllowed ? 'block' : 'none';\n",
              "\n",
              "        async function convertToInteractive(key) {\n",
              "          const element = document.querySelector('#df-d599ba3c-ab8b-4c79-995a-92d7d4f3b19e');\n",
              "          const dataTable =\n",
              "            await google.colab.kernel.invokeFunction('convertToInteractive',\n",
              "                                                     [key], {});\n",
              "          if (!dataTable) return;\n",
              "\n",
              "          const docLinkHtml = 'Like what you see? Visit the ' +\n",
              "            '<a target=\"_blank\" href=https://colab.research.google.com/notebooks/data_table.ipynb>data table notebook</a>'\n",
              "            + ' to learn more about interactive tables.';\n",
              "          element.innerHTML = '';\n",
              "          dataTable['output_type'] = 'display_data';\n",
              "          await google.colab.output.renderOutput(dataTable, element);\n",
              "          const docLink = document.createElement('div');\n",
              "          docLink.innerHTML = docLinkHtml;\n",
              "          element.appendChild(docLink);\n",
              "        }\n",
              "      </script>\n",
              "    </div>\n",
              "  </div>\n",
              "  "
            ]
          },
          "metadata": {},
          "execution_count": 113
        }
      ],
      "source": [
        "columns_to_drop = ['salary', 'salary_currency','remote_ratio']\n",
        "new_df=df.drop(columns=columns_to_drop)\n",
        "new_df.head()"
      ]
    },
    {
      "cell_type": "code",
      "execution_count": 114,
      "id": "9ff3f5d1-e93c-4443-a5e1-1cf774750e5a",
      "metadata": {
        "colab": {
          "base_uri": "https://localhost:8080/"
        },
        "id": "9ff3f5d1-e93c-4443-a5e1-1cf774750e5a",
        "outputId": "0fc88b2a-697a-4615-abd5-a3b53a86eadf"
      },
      "outputs": [
        {
          "output_type": "stream",
          "name": "stdout",
          "text": [
            "<class 'pandas.core.frame.DataFrame'>\n",
            "Int64Index: 3331 entries, 0 to 3377\n",
            "Data columns (total 8 columns):\n",
            " #   Column              Non-Null Count  Dtype \n",
            "---  ------              --------------  ----- \n",
            " 0   work_year           3331 non-null   int64 \n",
            " 1   experience_level    3331 non-null   object\n",
            " 2   employment_type     3331 non-null   object\n",
            " 3   job_title           3331 non-null   object\n",
            " 4   salary_in_usd       3331 non-null   int64 \n",
            " 5   employee_residence  3331 non-null   object\n",
            " 6   company_location    3331 non-null   object\n",
            " 7   company_size        3331 non-null   object\n",
            "dtypes: int64(2), object(6)\n",
            "memory usage: 234.2+ KB\n"
          ]
        }
      ],
      "source": [
        "def remove_outliers(df, column_name, threshold=1.5):\n",
        "    Q1 = new_df[column_name].quantile(0.25)\n",
        "    Q3 = new_df[column_name].quantile(0.75)\n",
        "    \n",
        "    IQR = Q3 - Q1\n",
        "    \n",
        "    lower_bound = Q1 - threshold * IQR\n",
        "    upper_bound = Q3 + threshold * IQR\n",
        "    \n",
        "    filtered_df = df[(df[column_name] >= lower_bound) & (df[column_name] <= upper_bound)]\n",
        "    \n",
        "    return filtered_df\n",
        "new_df = remove_outliers(new_df, 'salary_in_usd')\n",
        "new_df.info()\n"
      ]
    },
    {
      "cell_type": "markdown",
      "id": "c894c68a-2785-4fe0-9b58-87f534651022",
      "metadata": {
        "id": "c894c68a-2785-4fe0-9b58-87f534651022"
      },
      "source": [
        "## Determining Salary Ranges\n"
      ]
    },
    {
      "cell_type": "code",
      "execution_count": 170,
      "id": "088312d9-102a-475d-88da-29c9c8f037a9",
      "metadata": {
        "colab": {
          "base_uri": "https://localhost:8080/"
        },
        "id": "088312d9-102a-475d-88da-29c9c8f037a9",
        "outputId": "9f1a00e2-a44c-4f86-bc0f-736fc41eb5b3"
      },
      "outputs": [
        {
          "output_type": "execute_result",
          "data": {
            "text/plain": [
              "['15,000 - 33,066',\n",
              " '33,066 - 51,133',\n",
              " '51,133 - 69,200',\n",
              " '69,200 - 87,266',\n",
              " '87,266 - 105,333',\n",
              " '105,333 - 123,400',\n",
              " '123,400 - 141,466',\n",
              " '141,466 - 159,533',\n",
              " '159,533 - 177,600',\n",
              " '177,600 - 195,666',\n",
              " '195,666 - 213,733',\n",
              " '213,733 - 231,800',\n",
              " '231,800 - 249,866',\n",
              " '249,866 - 267,933',\n",
              " '267,933 - 286,000']"
            ]
          },
          "metadata": {},
          "execution_count": 170
        }
      ],
      "source": [
        "max_salary = new_df['salary_in_usd'].max()\n",
        "min_salary = new_df['salary_in_usd'].min()\n",
        "\n",
        "num_subranges = 15\n",
        "\n",
        "subranges = np.linspace(min_salary, max_salary, num=num_subranges+1, endpoint=True)\n",
        "range_labels = []\n",
        "for i in range(len(subranges)-1):\n",
        "     subrange_min = int(subranges[i])\n",
        "     subrange_max = int(subranges[i+1])\n",
        "     range_label = f\"{subrange_min:,} - {subrange_max:,}\"\n",
        "     range_labels.append(range_label)\n",
        "\n",
        "range_labels"
      ]
    },
    {
      "cell_type": "code",
      "execution_count": 116,
      "id": "3ad58cf9-85f0-4989-8826-fb3131acf5dd",
      "metadata": {
        "colab": {
          "base_uri": "https://localhost:8080/",
          "height": 317
        },
        "id": "3ad58cf9-85f0-4989-8826-fb3131acf5dd",
        "outputId": "429d08d0-6757-457a-a108-6d58190d6379"
      },
      "outputs": [
        {
          "output_type": "execute_result",
          "data": {
            "text/plain": [
              "   work_year  salary_in_usd  experience_level_EN  experience_level_EX  \\\n",
              "0       2023         196000                    0                    0   \n",
              "1       2023         121000                    0                    0   \n",
              "2       2023          65000                    0                    0   \n",
              "3       2023          55000                    0                    0   \n",
              "4       2023         220000                    0                    0   \n",
              "\n",
              "   experience_level_MI  experience_level_SE  employment_type_CT  \\\n",
              "0                    0                    1                   0   \n",
              "1                    0                    1                   0   \n",
              "2                    1                    0                   0   \n",
              "3                    1                    0                   0   \n",
              "4                    0                    1                   0   \n",
              "\n",
              "   employment_type_FL  employment_type_FT  employment_type_PT  ...  \\\n",
              "0                   0                   1                   0  ...   \n",
              "1                   0                   1                   0  ...   \n",
              "2                   0                   1                   0  ...   \n",
              "3                   0                   1                   0  ...   \n",
              "4                   0                   1                   0  ...   \n",
              "\n",
              "   employee_residence_Europe  employee_residence_North America  \\\n",
              "0                          0                                 1   \n",
              "1                          0                                 1   \n",
              "2                          0                                 1   \n",
              "3                          0                                 1   \n",
              "4                          0                                 1   \n",
              "\n",
              "   employee_residence_Oceania  employee_residence_South America  \\\n",
              "0                           0                                 0   \n",
              "1                           0                                 0   \n",
              "2                           0                                 0   \n",
              "3                           0                                 0   \n",
              "4                           0                                 0   \n",
              "\n",
              "   company_location_Africa  company_location_Asia  company_location_Europe  \\\n",
              "0                        0                      0                        0   \n",
              "1                        0                      0                        0   \n",
              "2                        0                      0                        0   \n",
              "3                        0                      0                        0   \n",
              "4                        0                      0                        0   \n",
              "\n",
              "   company_location_North America  company_location_Oceania  \\\n",
              "0                               1                         0   \n",
              "1                               1                         0   \n",
              "2                               1                         0   \n",
              "3                               1                         0   \n",
              "4                               1                         0   \n",
              "\n",
              "   company_location_South America  \n",
              "0                               0  \n",
              "1                               0  \n",
              "2                               0  \n",
              "3                               0  \n",
              "4                               0  \n",
              "\n",
              "[5 rows x 29 columns]"
            ],
            "text/html": [
              "\n",
              "  <div id=\"df-8b32368b-8ba7-4d9e-a513-dec1cdad71fd\">\n",
              "    <div class=\"colab-df-container\">\n",
              "      <div>\n",
              "<style scoped>\n",
              "    .dataframe tbody tr th:only-of-type {\n",
              "        vertical-align: middle;\n",
              "    }\n",
              "\n",
              "    .dataframe tbody tr th {\n",
              "        vertical-align: top;\n",
              "    }\n",
              "\n",
              "    .dataframe thead th {\n",
              "        text-align: right;\n",
              "    }\n",
              "</style>\n",
              "<table border=\"1\" class=\"dataframe\">\n",
              "  <thead>\n",
              "    <tr style=\"text-align: right;\">\n",
              "      <th></th>\n",
              "      <th>work_year</th>\n",
              "      <th>salary_in_usd</th>\n",
              "      <th>experience_level_EN</th>\n",
              "      <th>experience_level_EX</th>\n",
              "      <th>experience_level_MI</th>\n",
              "      <th>experience_level_SE</th>\n",
              "      <th>employment_type_CT</th>\n",
              "      <th>employment_type_FL</th>\n",
              "      <th>employment_type_FT</th>\n",
              "      <th>employment_type_PT</th>\n",
              "      <th>...</th>\n",
              "      <th>employee_residence_Europe</th>\n",
              "      <th>employee_residence_North America</th>\n",
              "      <th>employee_residence_Oceania</th>\n",
              "      <th>employee_residence_South America</th>\n",
              "      <th>company_location_Africa</th>\n",
              "      <th>company_location_Asia</th>\n",
              "      <th>company_location_Europe</th>\n",
              "      <th>company_location_North America</th>\n",
              "      <th>company_location_Oceania</th>\n",
              "      <th>company_location_South America</th>\n",
              "    </tr>\n",
              "  </thead>\n",
              "  <tbody>\n",
              "    <tr>\n",
              "      <th>0</th>\n",
              "      <td>2023</td>\n",
              "      <td>196000</td>\n",
              "      <td>0</td>\n",
              "      <td>0</td>\n",
              "      <td>0</td>\n",
              "      <td>1</td>\n",
              "      <td>0</td>\n",
              "      <td>0</td>\n",
              "      <td>1</td>\n",
              "      <td>0</td>\n",
              "      <td>...</td>\n",
              "      <td>0</td>\n",
              "      <td>1</td>\n",
              "      <td>0</td>\n",
              "      <td>0</td>\n",
              "      <td>0</td>\n",
              "      <td>0</td>\n",
              "      <td>0</td>\n",
              "      <td>1</td>\n",
              "      <td>0</td>\n",
              "      <td>0</td>\n",
              "    </tr>\n",
              "    <tr>\n",
              "      <th>1</th>\n",
              "      <td>2023</td>\n",
              "      <td>121000</td>\n",
              "      <td>0</td>\n",
              "      <td>0</td>\n",
              "      <td>0</td>\n",
              "      <td>1</td>\n",
              "      <td>0</td>\n",
              "      <td>0</td>\n",
              "      <td>1</td>\n",
              "      <td>0</td>\n",
              "      <td>...</td>\n",
              "      <td>0</td>\n",
              "      <td>1</td>\n",
              "      <td>0</td>\n",
              "      <td>0</td>\n",
              "      <td>0</td>\n",
              "      <td>0</td>\n",
              "      <td>0</td>\n",
              "      <td>1</td>\n",
              "      <td>0</td>\n",
              "      <td>0</td>\n",
              "    </tr>\n",
              "    <tr>\n",
              "      <th>2</th>\n",
              "      <td>2023</td>\n",
              "      <td>65000</td>\n",
              "      <td>0</td>\n",
              "      <td>0</td>\n",
              "      <td>1</td>\n",
              "      <td>0</td>\n",
              "      <td>0</td>\n",
              "      <td>0</td>\n",
              "      <td>1</td>\n",
              "      <td>0</td>\n",
              "      <td>...</td>\n",
              "      <td>0</td>\n",
              "      <td>1</td>\n",
              "      <td>0</td>\n",
              "      <td>0</td>\n",
              "      <td>0</td>\n",
              "      <td>0</td>\n",
              "      <td>0</td>\n",
              "      <td>1</td>\n",
              "      <td>0</td>\n",
              "      <td>0</td>\n",
              "    </tr>\n",
              "    <tr>\n",
              "      <th>3</th>\n",
              "      <td>2023</td>\n",
              "      <td>55000</td>\n",
              "      <td>0</td>\n",
              "      <td>0</td>\n",
              "      <td>1</td>\n",
              "      <td>0</td>\n",
              "      <td>0</td>\n",
              "      <td>0</td>\n",
              "      <td>1</td>\n",
              "      <td>0</td>\n",
              "      <td>...</td>\n",
              "      <td>0</td>\n",
              "      <td>1</td>\n",
              "      <td>0</td>\n",
              "      <td>0</td>\n",
              "      <td>0</td>\n",
              "      <td>0</td>\n",
              "      <td>0</td>\n",
              "      <td>1</td>\n",
              "      <td>0</td>\n",
              "      <td>0</td>\n",
              "    </tr>\n",
              "    <tr>\n",
              "      <th>4</th>\n",
              "      <td>2023</td>\n",
              "      <td>220000</td>\n",
              "      <td>0</td>\n",
              "      <td>0</td>\n",
              "      <td>0</td>\n",
              "      <td>1</td>\n",
              "      <td>0</td>\n",
              "      <td>0</td>\n",
              "      <td>1</td>\n",
              "      <td>0</td>\n",
              "      <td>...</td>\n",
              "      <td>0</td>\n",
              "      <td>1</td>\n",
              "      <td>0</td>\n",
              "      <td>0</td>\n",
              "      <td>0</td>\n",
              "      <td>0</td>\n",
              "      <td>0</td>\n",
              "      <td>1</td>\n",
              "      <td>0</td>\n",
              "      <td>0</td>\n",
              "    </tr>\n",
              "  </tbody>\n",
              "</table>\n",
              "<p>5 rows × 29 columns</p>\n",
              "</div>\n",
              "      <button class=\"colab-df-convert\" onclick=\"convertToInteractive('df-8b32368b-8ba7-4d9e-a513-dec1cdad71fd')\"\n",
              "              title=\"Convert this dataframe to an interactive table.\"\n",
              "              style=\"display:none;\">\n",
              "        \n",
              "  <svg xmlns=\"http://www.w3.org/2000/svg\" height=\"24px\"viewBox=\"0 0 24 24\"\n",
              "       width=\"24px\">\n",
              "    <path d=\"M0 0h24v24H0V0z\" fill=\"none\"/>\n",
              "    <path d=\"M18.56 5.44l.94 2.06.94-2.06 2.06-.94-2.06-.94-.94-2.06-.94 2.06-2.06.94zm-11 1L8.5 8.5l.94-2.06 2.06-.94-2.06-.94L8.5 2.5l-.94 2.06-2.06.94zm10 10l.94 2.06.94-2.06 2.06-.94-2.06-.94-.94-2.06-.94 2.06-2.06.94z\"/><path d=\"M17.41 7.96l-1.37-1.37c-.4-.4-.92-.59-1.43-.59-.52 0-1.04.2-1.43.59L10.3 9.45l-7.72 7.72c-.78.78-.78 2.05 0 2.83L4 21.41c.39.39.9.59 1.41.59.51 0 1.02-.2 1.41-.59l7.78-7.78 2.81-2.81c.8-.78.8-2.07 0-2.86zM5.41 20L4 18.59l7.72-7.72 1.47 1.35L5.41 20z\"/>\n",
              "  </svg>\n",
              "      </button>\n",
              "      \n",
              "  <style>\n",
              "    .colab-df-container {\n",
              "      display:flex;\n",
              "      flex-wrap:wrap;\n",
              "      gap: 12px;\n",
              "    }\n",
              "\n",
              "    .colab-df-convert {\n",
              "      background-color: #E8F0FE;\n",
              "      border: none;\n",
              "      border-radius: 50%;\n",
              "      cursor: pointer;\n",
              "      display: none;\n",
              "      fill: #1967D2;\n",
              "      height: 32px;\n",
              "      padding: 0 0 0 0;\n",
              "      width: 32px;\n",
              "    }\n",
              "\n",
              "    .colab-df-convert:hover {\n",
              "      background-color: #E2EBFA;\n",
              "      box-shadow: 0px 1px 2px rgba(60, 64, 67, 0.3), 0px 1px 3px 1px rgba(60, 64, 67, 0.15);\n",
              "      fill: #174EA6;\n",
              "    }\n",
              "\n",
              "    [theme=dark] .colab-df-convert {\n",
              "      background-color: #3B4455;\n",
              "      fill: #D2E3FC;\n",
              "    }\n",
              "\n",
              "    [theme=dark] .colab-df-convert:hover {\n",
              "      background-color: #434B5C;\n",
              "      box-shadow: 0px 1px 3px 1px rgba(0, 0, 0, 0.15);\n",
              "      filter: drop-shadow(0px 1px 2px rgba(0, 0, 0, 0.3));\n",
              "      fill: #FFFFFF;\n",
              "    }\n",
              "  </style>\n",
              "\n",
              "      <script>\n",
              "        const buttonEl =\n",
              "          document.querySelector('#df-8b32368b-8ba7-4d9e-a513-dec1cdad71fd button.colab-df-convert');\n",
              "        buttonEl.style.display =\n",
              "          google.colab.kernel.accessAllowed ? 'block' : 'none';\n",
              "\n",
              "        async function convertToInteractive(key) {\n",
              "          const element = document.querySelector('#df-8b32368b-8ba7-4d9e-a513-dec1cdad71fd');\n",
              "          const dataTable =\n",
              "            await google.colab.kernel.invokeFunction('convertToInteractive',\n",
              "                                                     [key], {});\n",
              "          if (!dataTable) return;\n",
              "\n",
              "          const docLinkHtml = 'Like what you see? Visit the ' +\n",
              "            '<a target=\"_blank\" href=https://colab.research.google.com/notebooks/data_table.ipynb>data table notebook</a>'\n",
              "            + ' to learn more about interactive tables.';\n",
              "          element.innerHTML = '';\n",
              "          dataTable['output_type'] = 'display_data';\n",
              "          await google.colab.output.renderOutput(dataTable, element);\n",
              "          const docLink = document.createElement('div');\n",
              "          docLink.innerHTML = docLinkHtml;\n",
              "          element.appendChild(docLink);\n",
              "        }\n",
              "      </script>\n",
              "    </div>\n",
              "  </div>\n",
              "  "
            ]
          },
          "metadata": {},
          "execution_count": 116
        }
      ],
      "source": [
        "\n",
        "categorical_cols=['experience_level','employment_type','job_title','company_size','employee_residence','company_location']\n",
        "encoded_df = pd.get_dummies(new_df[categorical_cols], prefix=categorical_cols, prefix_sep='_')\n",
        "df_encoded = pd.concat([new_df.drop(categorical_cols, axis=1), encoded_df], axis=1)\n",
        "df_encoded.head()"
      ]
    },
    {
      "cell_type": "code",
      "source": [
        "df_encoded.info()"
      ],
      "metadata": {
        "colab": {
          "base_uri": "https://localhost:8080/"
        },
        "id": "2fk2PeulL4x5",
        "outputId": "7b4715f6-afc6-40e0-f4fc-fa9e89c011c3"
      },
      "id": "2fk2PeulL4x5",
      "execution_count": 117,
      "outputs": [
        {
          "output_type": "stream",
          "name": "stdout",
          "text": [
            "<class 'pandas.core.frame.DataFrame'>\n",
            "Int64Index: 3331 entries, 0 to 3377\n",
            "Data columns (total 29 columns):\n",
            " #   Column                               Non-Null Count  Dtype\n",
            "---  ------                               --------------  -----\n",
            " 0   work_year                            3331 non-null   int64\n",
            " 1   salary_in_usd                        3331 non-null   int64\n",
            " 2   experience_level_EN                  3331 non-null   uint8\n",
            " 3   experience_level_EX                  3331 non-null   uint8\n",
            " 4   experience_level_MI                  3331 non-null   uint8\n",
            " 5   experience_level_SE                  3331 non-null   uint8\n",
            " 6   employment_type_CT                   3331 non-null   uint8\n",
            " 7   employment_type_FL                   3331 non-null   uint8\n",
            " 8   employment_type_FT                   3331 non-null   uint8\n",
            " 9   employment_type_PT                   3331 non-null   uint8\n",
            " 10  job_title_data analyst               3331 non-null   uint8\n",
            " 11  job_title_data engineer              3331 non-null   uint8\n",
            " 12  job_title_data scientist             3331 non-null   uint8\n",
            " 13  job_title_machine learning engineer  3331 non-null   uint8\n",
            " 14  company_size_L                       3331 non-null   uint8\n",
            " 15  company_size_M                       3331 non-null   uint8\n",
            " 16  company_size_S                       3331 non-null   uint8\n",
            " 17  employee_residence_Africa            3331 non-null   uint8\n",
            " 18  employee_residence_Asia              3331 non-null   uint8\n",
            " 19  employee_residence_Europe            3331 non-null   uint8\n",
            " 20  employee_residence_North America     3331 non-null   uint8\n",
            " 21  employee_residence_Oceania           3331 non-null   uint8\n",
            " 22  employee_residence_South America     3331 non-null   uint8\n",
            " 23  company_location_Africa              3331 non-null   uint8\n",
            " 24  company_location_Asia                3331 non-null   uint8\n",
            " 25  company_location_Europe              3331 non-null   uint8\n",
            " 26  company_location_North America       3331 non-null   uint8\n",
            " 27  company_location_Oceania             3331 non-null   uint8\n",
            " 28  company_location_South America       3331 non-null   uint8\n",
            "dtypes: int64(2), uint8(27)\n",
            "memory usage: 165.9 KB\n"
          ]
        }
      ]
    },
    {
      "cell_type": "code",
      "execution_count": 118,
      "id": "1188727a-b9ae-4d9d-8382-ed29dbb381b6",
      "metadata": {
        "colab": {
          "base_uri": "https://localhost:8080/",
          "height": 317
        },
        "id": "1188727a-b9ae-4d9d-8382-ed29dbb381b6",
        "outputId": "b92cfae1-31f1-4149-d1d7-4b64939cb1a7"
      },
      "outputs": [
        {
          "output_type": "execute_result",
          "data": {
            "text/plain": [
              "   work_year  salary_in_usd  experience_level_EN  experience_level_EX  \\\n",
              "0       2023         196000                    0                    0   \n",
              "1       2023         121000                    0                    0   \n",
              "2       2023          65000                    0                    0   \n",
              "3       2023          55000                    0                    0   \n",
              "4       2023         220000                    0                    0   \n",
              "\n",
              "   experience_level_MI  experience_level_SE  employment_type_CT  \\\n",
              "0                    0                    1                   0   \n",
              "1                    0                    1                   0   \n",
              "2                    1                    0                   0   \n",
              "3                    1                    0                   0   \n",
              "4                    0                    1                   0   \n",
              "\n",
              "   employment_type_FL  employment_type_FT  employment_type_PT  ...  \\\n",
              "0                   0                   1                   0  ...   \n",
              "1                   0                   1                   0  ...   \n",
              "2                   0                   1                   0  ...   \n",
              "3                   0                   1                   0  ...   \n",
              "4                   0                   1                   0  ...   \n",
              "\n",
              "   company_location_Africa  company_location_Asia  company_location_Europe  \\\n",
              "0                        0                      0                        0   \n",
              "1                        0                      0                        0   \n",
              "2                        0                      0                        0   \n",
              "3                        0                      0                        0   \n",
              "4                        0                      0                        0   \n",
              "\n",
              "   company_location_North America  company_location_Oceania  \\\n",
              "0                               1                         0   \n",
              "1                               1                         0   \n",
              "2                               1                         0   \n",
              "3                               1                         0   \n",
              "4                               1                         0   \n",
              "\n",
              "   company_location_South America  year_2020  year_2021  year_2022  year_2023  \n",
              "0                               0          0          0          0          1  \n",
              "1                               0          0          0          0          1  \n",
              "2                               0          0          0          0          1  \n",
              "3                               0          0          0          0          1  \n",
              "4                               0          0          0          0          1  \n",
              "\n",
              "[5 rows x 33 columns]"
            ],
            "text/html": [
              "\n",
              "  <div id=\"df-229cdeaa-d10f-4933-8318-1b6d16c55c5f\">\n",
              "    <div class=\"colab-df-container\">\n",
              "      <div>\n",
              "<style scoped>\n",
              "    .dataframe tbody tr th:only-of-type {\n",
              "        vertical-align: middle;\n",
              "    }\n",
              "\n",
              "    .dataframe tbody tr th {\n",
              "        vertical-align: top;\n",
              "    }\n",
              "\n",
              "    .dataframe thead th {\n",
              "        text-align: right;\n",
              "    }\n",
              "</style>\n",
              "<table border=\"1\" class=\"dataframe\">\n",
              "  <thead>\n",
              "    <tr style=\"text-align: right;\">\n",
              "      <th></th>\n",
              "      <th>work_year</th>\n",
              "      <th>salary_in_usd</th>\n",
              "      <th>experience_level_EN</th>\n",
              "      <th>experience_level_EX</th>\n",
              "      <th>experience_level_MI</th>\n",
              "      <th>experience_level_SE</th>\n",
              "      <th>employment_type_CT</th>\n",
              "      <th>employment_type_FL</th>\n",
              "      <th>employment_type_FT</th>\n",
              "      <th>employment_type_PT</th>\n",
              "      <th>...</th>\n",
              "      <th>company_location_Africa</th>\n",
              "      <th>company_location_Asia</th>\n",
              "      <th>company_location_Europe</th>\n",
              "      <th>company_location_North America</th>\n",
              "      <th>company_location_Oceania</th>\n",
              "      <th>company_location_South America</th>\n",
              "      <th>year_2020</th>\n",
              "      <th>year_2021</th>\n",
              "      <th>year_2022</th>\n",
              "      <th>year_2023</th>\n",
              "    </tr>\n",
              "  </thead>\n",
              "  <tbody>\n",
              "    <tr>\n",
              "      <th>0</th>\n",
              "      <td>2023</td>\n",
              "      <td>196000</td>\n",
              "      <td>0</td>\n",
              "      <td>0</td>\n",
              "      <td>0</td>\n",
              "      <td>1</td>\n",
              "      <td>0</td>\n",
              "      <td>0</td>\n",
              "      <td>1</td>\n",
              "      <td>0</td>\n",
              "      <td>...</td>\n",
              "      <td>0</td>\n",
              "      <td>0</td>\n",
              "      <td>0</td>\n",
              "      <td>1</td>\n",
              "      <td>0</td>\n",
              "      <td>0</td>\n",
              "      <td>0</td>\n",
              "      <td>0</td>\n",
              "      <td>0</td>\n",
              "      <td>1</td>\n",
              "    </tr>\n",
              "    <tr>\n",
              "      <th>1</th>\n",
              "      <td>2023</td>\n",
              "      <td>121000</td>\n",
              "      <td>0</td>\n",
              "      <td>0</td>\n",
              "      <td>0</td>\n",
              "      <td>1</td>\n",
              "      <td>0</td>\n",
              "      <td>0</td>\n",
              "      <td>1</td>\n",
              "      <td>0</td>\n",
              "      <td>...</td>\n",
              "      <td>0</td>\n",
              "      <td>0</td>\n",
              "      <td>0</td>\n",
              "      <td>1</td>\n",
              "      <td>0</td>\n",
              "      <td>0</td>\n",
              "      <td>0</td>\n",
              "      <td>0</td>\n",
              "      <td>0</td>\n",
              "      <td>1</td>\n",
              "    </tr>\n",
              "    <tr>\n",
              "      <th>2</th>\n",
              "      <td>2023</td>\n",
              "      <td>65000</td>\n",
              "      <td>0</td>\n",
              "      <td>0</td>\n",
              "      <td>1</td>\n",
              "      <td>0</td>\n",
              "      <td>0</td>\n",
              "      <td>0</td>\n",
              "      <td>1</td>\n",
              "      <td>0</td>\n",
              "      <td>...</td>\n",
              "      <td>0</td>\n",
              "      <td>0</td>\n",
              "      <td>0</td>\n",
              "      <td>1</td>\n",
              "      <td>0</td>\n",
              "      <td>0</td>\n",
              "      <td>0</td>\n",
              "      <td>0</td>\n",
              "      <td>0</td>\n",
              "      <td>1</td>\n",
              "    </tr>\n",
              "    <tr>\n",
              "      <th>3</th>\n",
              "      <td>2023</td>\n",
              "      <td>55000</td>\n",
              "      <td>0</td>\n",
              "      <td>0</td>\n",
              "      <td>1</td>\n",
              "      <td>0</td>\n",
              "      <td>0</td>\n",
              "      <td>0</td>\n",
              "      <td>1</td>\n",
              "      <td>0</td>\n",
              "      <td>...</td>\n",
              "      <td>0</td>\n",
              "      <td>0</td>\n",
              "      <td>0</td>\n",
              "      <td>1</td>\n",
              "      <td>0</td>\n",
              "      <td>0</td>\n",
              "      <td>0</td>\n",
              "      <td>0</td>\n",
              "      <td>0</td>\n",
              "      <td>1</td>\n",
              "    </tr>\n",
              "    <tr>\n",
              "      <th>4</th>\n",
              "      <td>2023</td>\n",
              "      <td>220000</td>\n",
              "      <td>0</td>\n",
              "      <td>0</td>\n",
              "      <td>0</td>\n",
              "      <td>1</td>\n",
              "      <td>0</td>\n",
              "      <td>0</td>\n",
              "      <td>1</td>\n",
              "      <td>0</td>\n",
              "      <td>...</td>\n",
              "      <td>0</td>\n",
              "      <td>0</td>\n",
              "      <td>0</td>\n",
              "      <td>1</td>\n",
              "      <td>0</td>\n",
              "      <td>0</td>\n",
              "      <td>0</td>\n",
              "      <td>0</td>\n",
              "      <td>0</td>\n",
              "      <td>1</td>\n",
              "    </tr>\n",
              "  </tbody>\n",
              "</table>\n",
              "<p>5 rows × 33 columns</p>\n",
              "</div>\n",
              "      <button class=\"colab-df-convert\" onclick=\"convertToInteractive('df-229cdeaa-d10f-4933-8318-1b6d16c55c5f')\"\n",
              "              title=\"Convert this dataframe to an interactive table.\"\n",
              "              style=\"display:none;\">\n",
              "        \n",
              "  <svg xmlns=\"http://www.w3.org/2000/svg\" height=\"24px\"viewBox=\"0 0 24 24\"\n",
              "       width=\"24px\">\n",
              "    <path d=\"M0 0h24v24H0V0z\" fill=\"none\"/>\n",
              "    <path d=\"M18.56 5.44l.94 2.06.94-2.06 2.06-.94-2.06-.94-.94-2.06-.94 2.06-2.06.94zm-11 1L8.5 8.5l.94-2.06 2.06-.94-2.06-.94L8.5 2.5l-.94 2.06-2.06.94zm10 10l.94 2.06.94-2.06 2.06-.94-2.06-.94-.94-2.06-.94 2.06-2.06.94z\"/><path d=\"M17.41 7.96l-1.37-1.37c-.4-.4-.92-.59-1.43-.59-.52 0-1.04.2-1.43.59L10.3 9.45l-7.72 7.72c-.78.78-.78 2.05 0 2.83L4 21.41c.39.39.9.59 1.41.59.51 0 1.02-.2 1.41-.59l7.78-7.78 2.81-2.81c.8-.78.8-2.07 0-2.86zM5.41 20L4 18.59l7.72-7.72 1.47 1.35L5.41 20z\"/>\n",
              "  </svg>\n",
              "      </button>\n",
              "      \n",
              "  <style>\n",
              "    .colab-df-container {\n",
              "      display:flex;\n",
              "      flex-wrap:wrap;\n",
              "      gap: 12px;\n",
              "    }\n",
              "\n",
              "    .colab-df-convert {\n",
              "      background-color: #E8F0FE;\n",
              "      border: none;\n",
              "      border-radius: 50%;\n",
              "      cursor: pointer;\n",
              "      display: none;\n",
              "      fill: #1967D2;\n",
              "      height: 32px;\n",
              "      padding: 0 0 0 0;\n",
              "      width: 32px;\n",
              "    }\n",
              "\n",
              "    .colab-df-convert:hover {\n",
              "      background-color: #E2EBFA;\n",
              "      box-shadow: 0px 1px 2px rgba(60, 64, 67, 0.3), 0px 1px 3px 1px rgba(60, 64, 67, 0.15);\n",
              "      fill: #174EA6;\n",
              "    }\n",
              "\n",
              "    [theme=dark] .colab-df-convert {\n",
              "      background-color: #3B4455;\n",
              "      fill: #D2E3FC;\n",
              "    }\n",
              "\n",
              "    [theme=dark] .colab-df-convert:hover {\n",
              "      background-color: #434B5C;\n",
              "      box-shadow: 0px 1px 3px 1px rgba(0, 0, 0, 0.15);\n",
              "      filter: drop-shadow(0px 1px 2px rgba(0, 0, 0, 0.3));\n",
              "      fill: #FFFFFF;\n",
              "    }\n",
              "  </style>\n",
              "\n",
              "      <script>\n",
              "        const buttonEl =\n",
              "          document.querySelector('#df-229cdeaa-d10f-4933-8318-1b6d16c55c5f button.colab-df-convert');\n",
              "        buttonEl.style.display =\n",
              "          google.colab.kernel.accessAllowed ? 'block' : 'none';\n",
              "\n",
              "        async function convertToInteractive(key) {\n",
              "          const element = document.querySelector('#df-229cdeaa-d10f-4933-8318-1b6d16c55c5f');\n",
              "          const dataTable =\n",
              "            await google.colab.kernel.invokeFunction('convertToInteractive',\n",
              "                                                     [key], {});\n",
              "          if (!dataTable) return;\n",
              "\n",
              "          const docLinkHtml = 'Like what you see? Visit the ' +\n",
              "            '<a target=\"_blank\" href=https://colab.research.google.com/notebooks/data_table.ipynb>data table notebook</a>'\n",
              "            + ' to learn more about interactive tables.';\n",
              "          element.innerHTML = '';\n",
              "          dataTable['output_type'] = 'display_data';\n",
              "          await google.colab.output.renderOutput(dataTable, element);\n",
              "          const docLink = document.createElement('div');\n",
              "          docLink.innerHTML = docLinkHtml;\n",
              "          element.appendChild(docLink);\n",
              "        }\n",
              "      </script>\n",
              "    </div>\n",
              "  </div>\n",
              "  "
            ]
          },
          "metadata": {},
          "execution_count": 118
        }
      ],
      "source": [
        "df_encoded_ = pd.get_dummies(df_encoded['work_year'], prefix='year')\n",
        "df_encoded_f = pd.concat([df_encoded, df_encoded_], axis=1)\n",
        "df_encoded_f.head()"
      ]
    },
    {
      "cell_type": "code",
      "execution_count": 119,
      "id": "5e4c1a0e-a1b7-40ea-98ff-afd2a91936e3",
      "metadata": {
        "colab": {
          "base_uri": "https://localhost:8080/"
        },
        "id": "5e4c1a0e-a1b7-40ea-98ff-afd2a91936e3",
        "outputId": "1e1cf619-3e66-4aad-bc3c-8da91c0ab913"
      },
      "outputs": [
        {
          "output_type": "stream",
          "name": "stdout",
          "text": [
            "<class 'pandas.core.frame.DataFrame'>\n",
            "Int64Index: 3331 entries, 0 to 3377\n",
            "Data columns (total 32 columns):\n",
            " #   Column                               Non-Null Count  Dtype\n",
            "---  ------                               --------------  -----\n",
            " 0   salary_in_usd                        3331 non-null   int64\n",
            " 1   experience_level_EN                  3331 non-null   uint8\n",
            " 2   experience_level_EX                  3331 non-null   uint8\n",
            " 3   experience_level_MI                  3331 non-null   uint8\n",
            " 4   experience_level_SE                  3331 non-null   uint8\n",
            " 5   employment_type_CT                   3331 non-null   uint8\n",
            " 6   employment_type_FL                   3331 non-null   uint8\n",
            " 7   employment_type_FT                   3331 non-null   uint8\n",
            " 8   employment_type_PT                   3331 non-null   uint8\n",
            " 9   job_title_data analyst               3331 non-null   uint8\n",
            " 10  job_title_data engineer              3331 non-null   uint8\n",
            " 11  job_title_data scientist             3331 non-null   uint8\n",
            " 12  job_title_machine learning engineer  3331 non-null   uint8\n",
            " 13  company_size_L                       3331 non-null   uint8\n",
            " 14  company_size_M                       3331 non-null   uint8\n",
            " 15  company_size_S                       3331 non-null   uint8\n",
            " 16  employee_residence_Africa            3331 non-null   uint8\n",
            " 17  employee_residence_Asia              3331 non-null   uint8\n",
            " 18  employee_residence_Europe            3331 non-null   uint8\n",
            " 19  employee_residence_North America     3331 non-null   uint8\n",
            " 20  employee_residence_Oceania           3331 non-null   uint8\n",
            " 21  employee_residence_South America     3331 non-null   uint8\n",
            " 22  company_location_Africa              3331 non-null   uint8\n",
            " 23  company_location_Asia                3331 non-null   uint8\n",
            " 24  company_location_Europe              3331 non-null   uint8\n",
            " 25  company_location_North America       3331 non-null   uint8\n",
            " 26  company_location_Oceania             3331 non-null   uint8\n",
            " 27  company_location_South America       3331 non-null   uint8\n",
            " 28  year_2020                            3331 non-null   uint8\n",
            " 29  year_2021                            3331 non-null   uint8\n",
            " 30  year_2022                            3331 non-null   uint8\n",
            " 31  year_2023                            3331 non-null   uint8\n",
            "dtypes: int64(1), uint8(31)\n",
            "memory usage: 152.9 KB\n"
          ]
        }
      ],
      "source": [
        "df_encoded_f=df_encoded_f.drop('work_year',axis=1)\n",
        "\n",
        "df_encoded_f.info()"
      ]
    },
    {
      "cell_type": "markdown",
      "id": "e042376d-d093-432e-97bc-3c1c4fee28b7",
      "metadata": {
        "id": "e042376d-d093-432e-97bc-3c1c4fee28b7"
      },
      "source": [
        "# Model Fitting"
      ]
    },
    {
      "cell_type": "code",
      "execution_count": 120,
      "id": "43c9f875-1497-4516-8cd0-ee5bd6e08fc7",
      "metadata": {
        "id": "43c9f875-1497-4516-8cd0-ee5bd6e08fc7"
      },
      "outputs": [],
      "source": [
        "\n",
        "from sklearn.model_selection import train_test_split\n",
        "\n",
        "X = df_encoded_f.drop('salary_in_usd', axis=1)\n",
        "y = df_encoded_f['salary_in_usd']\n",
        "\n",
        "X_train, X_test, y_train, y_test = train_test_split(X, y, test_size=0.2, shuffle=False)"
      ]
    },
    {
      "cell_type": "markdown",
      "id": "1b95bcb9-95aa-4c6b-9971-fefa3676e1d6",
      "metadata": {
        "id": "1b95bcb9-95aa-4c6b-9971-fefa3676e1d6"
      },
      "source": [
        "## Linear Regression"
      ]
    },
    {
      "cell_type": "code",
      "execution_count": 145,
      "id": "04876f9c-033e-427c-a327-a20e5bb89418",
      "metadata": {
        "colab": {
          "base_uri": "https://localhost:8080/"
        },
        "id": "04876f9c-033e-427c-a327-a20e5bb89418",
        "outputId": "7bd569e3-d1d1-429f-8947-a97c8accb372"
      },
      "outputs": [
        {
          "output_type": "stream",
          "name": "stdout",
          "text": [
            "Mean Squared Error (MSE): 3.6314917931948435e+34\n",
            "Mean Absolute Error (MAE): 4.781941531924729e+16\n",
            "R-squared (R2) Score: -1.2499545536874454e+25\n"
          ]
        }
      ],
      "source": [
        "from sklearn.linear_model import LinearRegression, Ridge, Lasso\n",
        "from sklearn.metrics import mean_squared_error, mean_absolute_error, r2_score\n",
        "\n",
        "linreg = LinearRegression()\n",
        "linreg.fit(X_train, y_train)\n",
        "y_pred = linreg.predict(X_test)\n",
        "\n",
        "mse = mean_squared_error(y_test, y_pred)\n",
        "mae = mean_absolute_error(y_test, y_pred)\n",
        "r2 = r2_score(y_test, y_pred)\n",
        "\n",
        "print(\"Mean Squared Error (MSE):\", mse)\n",
        "print(\"Mean Absolute Error (MAE):\", mae)\n",
        "print(\"R-squared (R2) Score:\", r2)"
      ]
    },
    {
      "cell_type": "markdown",
      "id": "efaeae58-9013-4398-906b-c5a76939f714",
      "metadata": {
        "id": "efaeae58-9013-4398-906b-c5a76939f714"
      },
      "source": [
        "## Ridge Regression"
      ]
    },
    {
      "cell_type": "code",
      "execution_count": 160,
      "id": "2d0b2aff-39e1-46f7-9db1-79834224c540",
      "metadata": {
        "colab": {
          "base_uri": "https://localhost:8080/"
        },
        "id": "2d0b2aff-39e1-46f7-9db1-79834224c540",
        "outputId": "f459cc4e-57dc-471f-a57a-fcf97b537dd2"
      },
      "outputs": [
        {
          "output_type": "stream",
          "name": "stdout",
          "text": [
            "Mean Squared Error (MSE): 1365411030.7595263\n",
            "Mean Absolute Error (MAE): 28791.85580160383\n",
            "R-squared (R2) Score: 0.5300273736674345\n"
          ]
        }
      ],
      "source": [
        "param_grid = {'alpha': [0.1, 1.0, 10.0],\n",
        "              \n",
        "              'solver': ['auto', 'svd', 'cholesky', 'lsqr', 'sparse_cg', 'sag', 'saga']}\n",
        "\n",
        "\n",
        "rig = Ridge()\n",
        "grid_search = GridSearchCV(rig, param_grid, scoring='r2', cv=10)\n",
        "\n",
        "grid_search.fit(X_train, y_train)\n",
        "best_ridge = grid_search.best_estimator_\n",
        "\n",
        "y_pred = best_ridge.predict(X_test)\n",
        "mse = mean_squared_error(y_test, y_pred)\n",
        "mae = mean_absolute_error(y_test, y_pred)\n",
        "r2 = r2_score(y_test, y_pred)\n",
        "\n",
        "print(\"Mean Squared Error (MSE):\", mse)\n",
        "print(\"Mean Absolute Error (MAE):\", mae)\n",
        "print(\"R-squared (R2) Score:\", r2)\n",
        "     "
      ]
    },
    {
      "cell_type": "markdown",
      "id": "f2e6b498-23db-49ff-b205-c2cbbb81b7fc",
      "metadata": {
        "id": "f2e6b498-23db-49ff-b205-c2cbbb81b7fc"
      },
      "source": [
        "## Gradient Boosting"
      ]
    },
    {
      "cell_type": "code",
      "execution_count": 123,
      "id": "d554eb07-e3f9-493b-a163-d1ad8d4ec531",
      "metadata": {
        "colab": {
          "base_uri": "https://localhost:8080/"
        },
        "id": "d554eb07-e3f9-493b-a163-d1ad8d4ec531",
        "outputId": "fff9444d-9041-4a40-c060-601f6b783fbe"
      },
      "outputs": [
        {
          "output_type": "stream",
          "name": "stdout",
          "text": [
            "Mean Squared Error (MSE): 1445811633.0657322\n",
            "Mean Absolute Error (MAE): 29500.942832822737\n",
            "R-squared (R2) Score: 0.5023535953154691\n"
          ]
        }
      ],
      "source": [
        "from sklearn.ensemble import GradientBoostingRegressor\n",
        "GBreg = GradientBoostingRegressor(n_estimators = 100, random_state = 1, learning_rate=0.1, max_depth=3)\n",
        "GBreg.fit(X_train, y_train)\n",
        "y_pred = GBreg.predict(X_test)\n",
        "mse = mean_squared_error(y_test, y_pred)\n",
        "mae = mean_absolute_error(y_test, y_pred)\n",
        "r2 = r2_score(y_test, y_pred)\n",
        "\n",
        "print(\"Mean Squared Error (MSE):\", mse)\n",
        "print(\"Mean Absolute Error (MAE):\", mae)\n",
        "print(\"R-squared (R2) Score:\", r2)"
      ]
    },
    {
      "cell_type": "markdown",
      "id": "e0a8e709-2bf8-465b-bd0e-cb1b117a7f66",
      "metadata": {
        "id": "e0a8e709-2bf8-465b-bd0e-cb1b117a7f66"
      },
      "source": [
        "## Kernel Ridge "
      ]
    },
    {
      "cell_type": "code",
      "execution_count": 124,
      "id": "43b9cb6f-3e12-4f37-8ade-4ddc4915d27a",
      "metadata": {
        "colab": {
          "base_uri": "https://localhost:8080/"
        },
        "id": "43b9cb6f-3e12-4f37-8ade-4ddc4915d27a",
        "outputId": "e47cf25b-3f31-45c5-8dcf-874ee5b659e2"
      },
      "outputs": [
        {
          "output_type": "stream",
          "name": "stdout",
          "text": [
            "Mean Squared Error (MSE): 1447939399.049659\n",
            "Mean Absolute Error (MAE): 29622.524640361407\n",
            "R-squared (R2) Score: 0.5016212211474276\n"
          ]
        }
      ],
      "source": [
        "from sklearn.kernel_ridge import KernelRidge\n",
        "KernelRidge_model = KernelRidge(alpha=0.0001)\n",
        "KernelRidge_model.fit(X_train, y_train)\n",
        "y_pred = KernelRidge_model.predict(X_test)\n",
        "\n",
        "mse = mean_squared_error(y_test, y_pred)\n",
        "mae = mean_absolute_error(y_test, y_pred)\n",
        "r2 = r2_score(y_test, y_pred)\n",
        "\n",
        "print(\"Mean Squared Error (MSE):\", mse)\n",
        "print(\"Mean Absolute Error (MAE):\", mae)\n",
        "print(\"R-squared (R2) Score:\", r2)\n"
      ]
    },
    {
      "cell_type": "markdown",
      "id": "b1d6a142-c1b4-4be6-84eb-4619e980ffbe",
      "metadata": {
        "id": "b1d6a142-c1b4-4be6-84eb-4619e980ffbe"
      },
      "source": [
        "## Random Forest"
      ]
    },
    {
      "cell_type": "code",
      "execution_count": 125,
      "id": "9d30a29e-b5a6-4bc2-8b3f-7b0eaca1a9bb",
      "metadata": {
        "colab": {
          "base_uri": "https://localhost:8080/"
        },
        "id": "9d30a29e-b5a6-4bc2-8b3f-7b0eaca1a9bb",
        "outputId": "41f4a8f5-02d7-49bb-f25f-4e42e60e878a"
      },
      "outputs": [
        {
          "output_type": "stream",
          "name": "stdout",
          "text": [
            "Mean Squared Error (MSE): 1501013592.7292106\n",
            "Mean Absolute Error (MAE): 29911.13105525479\n",
            "R-squared (R2) Score: 0.48335315561101033\n"
          ]
        }
      ],
      "source": [
        "from sklearn.ensemble import RandomForestRegressor\n",
        "rand_forest_model = RandomForestRegressor()\n",
        "rand_forest_model.fit(X_train, y_train)\n",
        "y_pred = rand_forest_model.predict(X_test)\n",
        "\n",
        "mse = mean_squared_error(y_test, y_pred)\n",
        "mae = mean_absolute_error(y_test, y_pred)\n",
        "r2 = r2_score(y_test, y_pred)\n",
        "\n",
        "print(\"Mean Squared Error (MSE):\", mse)\n",
        "print(\"Mean Absolute Error (MAE):\", mae)\n",
        "print(\"R-squared (R2) Score:\", r2)"
      ]
    },
    {
      "cell_type": "markdown",
      "id": "98b51a50-8887-4bca-abb8-d7014032b1d4",
      "metadata": {
        "id": "98b51a50-8887-4bca-abb8-d7014032b1d4"
      },
      "source": [
        "## XG Boost"
      ]
    },
    {
      "cell_type": "code",
      "source": [],
      "metadata": {
        "id": "faBIUN5BMkNP"
      },
      "id": "faBIUN5BMkNP",
      "execution_count": null,
      "outputs": []
    },
    {
      "cell_type": "code",
      "execution_count": 152,
      "id": "71a525e8-291b-4d23-94f4-e51c34eced3e",
      "metadata": {
        "colab": {
          "base_uri": "https://localhost:8080/"
        },
        "id": "71a525e8-291b-4d23-94f4-e51c34eced3e",
        "outputId": "027d113c-6bc7-4ac4-9649-770213e26b20"
      },
      "outputs": [
        {
          "output_type": "stream",
          "name": "stdout",
          "text": [
            "Mean Squared Error (MSE): 1442648183.390657\n",
            "Mean Absolute Error (MAE): 29409.757452328522\n",
            "R-squared (R2) Score: 0.5034424504064074\n"
          ]
        }
      ],
      "source": [
        "import xgboost as xgb\n",
        "from sklearn.model_selection import GridSearchCV\n",
        "\n",
        "xgb_model = xgb.XGBRegressor()\n",
        "param_grid = {\n",
        "    'n_estimators': [100, 200, 300],\n",
        "    'max_depth': [3, 4, 5],\n",
        "    'learning_rate': [0.1, 0.01, 0.001]\n",
        "}\n",
        "grid_search = GridSearchCV(estimator=xgb_model, param_grid=param_grid, cv=10, scoring='r2')\n",
        "grid_search.fit(X_train, y_train)\n",
        "\n",
        "best_params = grid_search.best_params_\n",
        "best_xgb_model = grid_search.best_estimator_\n",
        "\n",
        "best_xgb_model.fit(X_train, y_train)\n",
        "y_pred = best_xgb_model.predict(X_test)\n",
        "\n",
        "mse = mean_squared_error(y_test, y_pred)\n",
        "mae = mean_absolute_error(y_test, y_pred)\n",
        "r2 = r2_score(y_test, y_pred)\n",
        "\n",
        "print(\"Mean Squared Error (MSE):\", mse)\n",
        "print(\"Mean Absolute Error (MAE):\", mae)\n",
        "print(\"R-squared (R2) Score:\", r2)"
      ]
    },
    {
      "cell_type": "markdown",
      "id": "6a8610b4-e284-4b45-8db9-e413225d8831",
      "metadata": {
        "id": "6a8610b4-e284-4b45-8db9-e413225d8831"
      },
      "source": [
        "## LightGBM"
      ]
    },
    {
      "cell_type": "code",
      "execution_count": 153,
      "id": "45b3516f-7037-4311-b730-d0e682dde2eb",
      "metadata": {
        "colab": {
          "base_uri": "https://localhost:8080/"
        },
        "id": "45b3516f-7037-4311-b730-d0e682dde2eb",
        "outputId": "32be8337-174d-43eb-fe03-8e23403eeea2"
      },
      "outputs": [
        {
          "output_type": "stream",
          "name": "stdout",
          "text": [
            "Mean Squared Error (MSE): 1451365590.1331263\n",
            "Mean Absolute Error (MAE): 29288.113789171577\n",
            "R-squared (R2) Score: 0.5004419308197974\n"
          ]
        }
      ],
      "source": [
        "import lightgbm as lgb\n",
        "lgb_model = lgb.LGBMRegressor()\n",
        "param_grid = {\n",
        "    'n_estimators': [100, 200, 300],\n",
        "    'max_depth': [3, 4, 5],\n",
        "    'learning_rate': [0.1, 0.01, 0.001]\n",
        "}\n",
        "grid_search = GridSearchCV(estimator=lgb_model, param_grid=param_grid, cv=10, scoring='r2')\n",
        "grid_search.fit(X_train, y_train)\n",
        "best_params = grid_search.best_params_\n",
        "best_lgb_model = grid_search.best_estimator_\n",
        "y_pred = best_lgb_model.predict(X_test)\n",
        "mse = mean_squared_error(y_test, y_pred)\n",
        "mae = mean_absolute_error(y_test, y_pred)\n",
        "r2 = r2_score(y_test, y_pred)\n",
        "\n",
        "print(\"Mean Squared Error (MSE):\", mse)\n",
        "print(\"Mean Absolute Error (MAE):\", mae)\n",
        "print(\"R-squared (R2) Score:\", r2)"
      ]
    },
    {
      "cell_type": "code",
      "source": [
        "!pip install -q catboost \n"
      ],
      "metadata": {
        "colab": {
          "base_uri": "https://localhost:8080/"
        },
        "id": "u5IYk-1XbCHr",
        "outputId": "26afcb00-57cf-444d-ba61-781e4cdb9d94"
      },
      "id": "u5IYk-1XbCHr",
      "execution_count": 146,
      "outputs": [
        {
          "output_type": "stream",
          "name": "stdout",
          "text": [
            "\u001b[2K     \u001b[90m━━━━━━━━━━━━━━━━━━━━━━━━━━━━━━━━━━━━━━━━\u001b[0m \u001b[32m98.6/98.6 MB\u001b[0m \u001b[31m2.0 MB/s\u001b[0m eta \u001b[36m0:00:00\u001b[0m\n",
            "\u001b[?25h"
          ]
        }
      ]
    },
    {
      "cell_type": "code",
      "source": [
        "from catboost import CatBoostRegressor\n",
        "\n",
        "param_grid = {'iterations': [100, 200, 300],\n",
        "              'depth': [4, 6, 8],\n",
        "              'learning_rate': [0.1, 0.01, 0.001]}\n",
        "\n",
        "catboost = CatBoostRegressor()\n",
        "\n",
        "grid_search = GridSearchCV(catboost, param_grid, scoring='r2', cv=10)\n",
        "\n",
        "grid_search.fit(X_train, y_train)\n",
        "\n",
        "best_catboost = grid_search.best_estimator_\n",
        "\n",
        "y_pred = best_catboost.predict(X_test)\n",
        "\n",
        "mse = mean_squared_error(y_test, y_pred)\n",
        "mae = mean_absolute_error(y_test, y_pred)\n",
        "r2 = r2_score(y_test, y_pred)\n",
        "\n",
        "print(\"Mean Squared Error (MSE):\", mse)\n",
        "print(\"Mean Absolute Error (MAE):\", mae)\n",
        "print(\"R-squared (R2) Score:\", r2)\n"
      ],
      "metadata": {
        "id": "34EpyBu9bX53"
      },
      "id": "34EpyBu9bX53",
      "execution_count": null,
      "outputs": []
    },
    {
      "cell_type": "code",
      "execution_count": 161,
      "id": "96cd49de-56d1-4c85-81ce-327c7457575b",
      "metadata": {
        "colab": {
          "base_uri": "https://localhost:8080/",
          "height": 75
        },
        "id": "96cd49de-56d1-4c85-81ce-327c7457575b",
        "outputId": "4bf595e7-ad2d-4fd5-fe44-23fe6da760ef"
      },
      "outputs": [
        {
          "output_type": "execute_result",
          "data": {
            "text/plain": [
              "Ridge(alpha=10.0, solver='lsqr')"
            ],
            "text/html": [
              "<style>#sk-container-id-4 {color: black;background-color: white;}#sk-container-id-4 pre{padding: 0;}#sk-container-id-4 div.sk-toggleable {background-color: white;}#sk-container-id-4 label.sk-toggleable__label {cursor: pointer;display: block;width: 100%;margin-bottom: 0;padding: 0.3em;box-sizing: border-box;text-align: center;}#sk-container-id-4 label.sk-toggleable__label-arrow:before {content: \"▸\";float: left;margin-right: 0.25em;color: #696969;}#sk-container-id-4 label.sk-toggleable__label-arrow:hover:before {color: black;}#sk-container-id-4 div.sk-estimator:hover label.sk-toggleable__label-arrow:before {color: black;}#sk-container-id-4 div.sk-toggleable__content {max-height: 0;max-width: 0;overflow: hidden;text-align: left;background-color: #f0f8ff;}#sk-container-id-4 div.sk-toggleable__content pre {margin: 0.2em;color: black;border-radius: 0.25em;background-color: #f0f8ff;}#sk-container-id-4 input.sk-toggleable__control:checked~div.sk-toggleable__content {max-height: 200px;max-width: 100%;overflow: auto;}#sk-container-id-4 input.sk-toggleable__control:checked~label.sk-toggleable__label-arrow:before {content: \"▾\";}#sk-container-id-4 div.sk-estimator input.sk-toggleable__control:checked~label.sk-toggleable__label {background-color: #d4ebff;}#sk-container-id-4 div.sk-label input.sk-toggleable__control:checked~label.sk-toggleable__label {background-color: #d4ebff;}#sk-container-id-4 input.sk-hidden--visually {border: 0;clip: rect(1px 1px 1px 1px);clip: rect(1px, 1px, 1px, 1px);height: 1px;margin: -1px;overflow: hidden;padding: 0;position: absolute;width: 1px;}#sk-container-id-4 div.sk-estimator {font-family: monospace;background-color: #f0f8ff;border: 1px dotted black;border-radius: 0.25em;box-sizing: border-box;margin-bottom: 0.5em;}#sk-container-id-4 div.sk-estimator:hover {background-color: #d4ebff;}#sk-container-id-4 div.sk-parallel-item::after {content: \"\";width: 100%;border-bottom: 1px solid gray;flex-grow: 1;}#sk-container-id-4 div.sk-label:hover label.sk-toggleable__label {background-color: #d4ebff;}#sk-container-id-4 div.sk-serial::before {content: \"\";position: absolute;border-left: 1px solid gray;box-sizing: border-box;top: 0;bottom: 0;left: 50%;z-index: 0;}#sk-container-id-4 div.sk-serial {display: flex;flex-direction: column;align-items: center;background-color: white;padding-right: 0.2em;padding-left: 0.2em;position: relative;}#sk-container-id-4 div.sk-item {position: relative;z-index: 1;}#sk-container-id-4 div.sk-parallel {display: flex;align-items: stretch;justify-content: center;background-color: white;position: relative;}#sk-container-id-4 div.sk-item::before, #sk-container-id-4 div.sk-parallel-item::before {content: \"\";position: absolute;border-left: 1px solid gray;box-sizing: border-box;top: 0;bottom: 0;left: 50%;z-index: -1;}#sk-container-id-4 div.sk-parallel-item {display: flex;flex-direction: column;z-index: 1;position: relative;background-color: white;}#sk-container-id-4 div.sk-parallel-item:first-child::after {align-self: flex-end;width: 50%;}#sk-container-id-4 div.sk-parallel-item:last-child::after {align-self: flex-start;width: 50%;}#sk-container-id-4 div.sk-parallel-item:only-child::after {width: 0;}#sk-container-id-4 div.sk-dashed-wrapped {border: 1px dashed gray;margin: 0 0.4em 0.5em 0.4em;box-sizing: border-box;padding-bottom: 0.4em;background-color: white;}#sk-container-id-4 div.sk-label label {font-family: monospace;font-weight: bold;display: inline-block;line-height: 1.2em;}#sk-container-id-4 div.sk-label-container {text-align: center;}#sk-container-id-4 div.sk-container {/* jupyter's `normalize.less` sets `[hidden] { display: none; }` but bootstrap.min.css set `[hidden] { display: none !important; }` so we also need the `!important` here to be able to override the default hidden behavior on the sphinx rendered scikit-learn.org. See: https://github.com/scikit-learn/scikit-learn/issues/21755 */display: inline-block !important;position: relative;}#sk-container-id-4 div.sk-text-repr-fallback {display: none;}</style><div id=\"sk-container-id-4\" class=\"sk-top-container\"><div class=\"sk-text-repr-fallback\"><pre>Ridge(alpha=10.0, solver=&#x27;lsqr&#x27;)</pre><b>In a Jupyter environment, please rerun this cell to show the HTML representation or trust the notebook. <br />On GitHub, the HTML representation is unable to render, please try loading this page with nbviewer.org.</b></div><div class=\"sk-container\" hidden><div class=\"sk-item\"><div class=\"sk-estimator sk-toggleable\"><input class=\"sk-toggleable__control sk-hidden--visually\" id=\"sk-estimator-id-4\" type=\"checkbox\" checked><label for=\"sk-estimator-id-4\" class=\"sk-toggleable__label sk-toggleable__label-arrow\">Ridge</label><div class=\"sk-toggleable__content\"><pre>Ridge(alpha=10.0, solver=&#x27;lsqr&#x27;)</pre></div></div></div></div></div>"
            ]
          },
          "metadata": {},
          "execution_count": 161
        }
      ],
      "source": [
        "model=best_ridge\n",
        "model"
      ]
    },
    {
      "cell_type": "code",
      "source": [
        "feature_names = X_train.columns\n",
        "feature_names"
      ],
      "metadata": {
        "colab": {
          "base_uri": "https://localhost:8080/"
        },
        "id": "bROY-cHuS1Gq",
        "outputId": "2a9aee5c-61c0-4b91-d3ac-5d24e1715a69"
      },
      "id": "bROY-cHuS1Gq",
      "execution_count": 155,
      "outputs": [
        {
          "output_type": "execute_result",
          "data": {
            "text/plain": [
              "Index(['experience_level_EN', 'experience_level_EX', 'experience_level_MI',\n",
              "       'experience_level_SE', 'employment_type_CT', 'employment_type_FL',\n",
              "       'employment_type_FT', 'employment_type_PT', 'job_title_data analyst',\n",
              "       'job_title_data engineer', 'job_title_data scientist',\n",
              "       'job_title_machine learning engineer', 'company_size_L',\n",
              "       'company_size_M', 'company_size_S', 'employee_residence_Africa',\n",
              "       'employee_residence_Asia', 'employee_residence_Europe',\n",
              "       'employee_residence_North America', 'employee_residence_Oceania',\n",
              "       'employee_residence_South America', 'company_location_Africa',\n",
              "       'company_location_Asia', 'company_location_Europe',\n",
              "       'company_location_North America', 'company_location_Oceania',\n",
              "       'company_location_South America', 'year_2020', 'year_2021', 'year_2022',\n",
              "       'year_2023'],\n",
              "      dtype='object')"
            ]
          },
          "metadata": {},
          "execution_count": 155
        }
      ]
    },
    {
      "cell_type": "code",
      "source": [
        "import seaborn as sns\n",
        "import matplotlib.pyplot as plt\n",
        "\n",
        "sns.set(style=\"whitegrid\")\n",
        "feature_importances = np.abs(model.coef_)  \n",
        "print(feature_importances.shape)\n",
        "\n",
        "original_feature_names = 'experience_level','employment_type','job_title','company_size','year','company_location','employee_residence'\n",
        "\n",
        "if feature_importances.shape[0] != len(original_feature_names):\n",
        "    feature_importances = feature_importances[:len(original_feature_names)]\n",
        "\n",
        "importance_df = pd.DataFrame({'Feature': original_feature_names, 'Importance': feature_importances})\n",
        "importance_df = importance_df.groupby('Feature', as_index=False).sum()\n",
        "importance_df = importance_df.sort_values('Importance', ascending=False)\n",
        " \n",
        "plt.figure(figsize=(10, 6))\n",
        "sns.barplot(data=importance_df, x='Importance', y='Feature', palette='viridis')\n",
        "plt.xlabel('Importance')\n",
        "plt.ylabel('Feature')\n",
        "plt.title('Feature Importances - Ridge Regression')\n",
        "plt.show()"
      ],
      "metadata": {
        "colab": {
          "base_uri": "https://localhost:8080/",
          "height": 591
        },
        "id": "YMwphSr7R-70",
        "outputId": "fe3754e2-0613-4236-c958-e6cde31a4003"
      },
      "id": "YMwphSr7R-70",
      "execution_count": 156,
      "outputs": [
        {
          "output_type": "stream",
          "name": "stdout",
          "text": [
            "(31,)\n"
          ]
        },
        {
          "output_type": "display_data",
          "data": {
            "text/plain": [
              "<Figure size 1000x600 with 1 Axes>"
            ],
            "image/png": "[encoded data removed]"
          },
          "metadata": {}
        }
      ]
    },
    {
      "cell_type": "markdown",
      "id": "2f198777-ebf7-4c22-b4e9-c965a0dc5d23",
      "metadata": {
        "id": "2f198777-ebf7-4c22-b4e9-c965a0dc5d23"
      },
      "source": [
        "## Making Predictions"
      ]
    },
    {
      "cell_type": "code",
      "execution_count": 166,
      "id": "4c338157-8025-49fb-853c-a56f841bfde8",
      "metadata": {
        "colab": {
          "base_uri": "https://localhost:8080/"
        },
        "id": "4c338157-8025-49fb-853c-a56f841bfde8",
        "outputId": "2b9eb327-ac4e-4e42-9df5-c53cd7dd1704"
      },
      "outputs": [
        {
          "output_type": "stream",
          "name": "stdout",
          "text": [
            "Prediction: 15,000 - 48,875\n"
          ]
        },
        {
          "output_type": "stream",
          "name": "stderr",
          "text": [
            "/usr/local/lib/python3.10/dist-packages/sklearn/base.py:439: UserWarning: X does not have valid feature names, but Ridge was fitted with feature names\n",
            "  warnings.warn(\n"
          ]
        }
      ],
      "source": [
        "import joblib\n",
        "import numpy as np\n",
        "\n",
        "def make_prediction(feature_values):\n",
        "    feature_names = ['experience_level_EN', 'experience_level_EX', 'experience_level_MI',\n",
        "                     'experience_level_SE','employment_type_CT', 'employment_type_FL', 'employment_type_FT',\n",
        "                     'employment_type_PT', 'job_title_data engineer','job_title_data analyst',\n",
        "                     'job_title_data scientist', 'job_title_machine learning engineer',\n",
        "                     'company_size_M', 'company_size_S', 'company_size_L','employee_residence_Africa',\n",
        "                     'employee_residence_Asia', 'employee_residence_Europe',\n",
        "                     'employee_residence_North America', 'employee_residence_Oceania',\n",
        "                     'employee_residence_South America', 'company_location_Africa',\n",
        "                     'company_location_Asia', 'company_location_Europe',\n",
        "                     'company_location_North America', 'company_location_Oceania',\n",
        "                     'company_location_South America', 'year_2020', 'year_2021',\n",
        "                     'year_2022', 'year_2023']\n",
        "\n",
        "    # Create a numpy array for the input data\n",
        "    input_data = np.array([[feature_values['employee_residence'] == 'Africa',\n",
        "                            feature_values['employee_residence'] == 'Asia',\n",
        "                            feature_values['employee_residence'] == 'Europe',\n",
        "                            feature_values['employee_residence'] == 'North America',\n",
        "                            feature_values['employee_residence'] == 'Oceania',\n",
        "                            feature_values['employee_residence'] == 'South America',\n",
        "                            feature_values['company_location'] == 'Africa',\n",
        "                            feature_values['company_location'] == 'Asia',\n",
        "                            feature_values['company_location'] == 'Europe',\n",
        "                            feature_values['company_location'] == 'North America',\n",
        "                            feature_values['company_location'] == 'Oceania',\n",
        "                            feature_values['company_location'] == 'South America',\n",
        "                            feature_values['experience_level'] == 'EN',\n",
        "                            feature_values['experience_level'] == 'EX',\n",
        "                            feature_values['experience_level'] == 'MI',\n",
        "                            feature_values['experience_level'] == 'SE',\n",
        "                            feature_values['employment_type'] == 'CT',\n",
        "                            feature_values['employment_type'] == 'FL',\n",
        "                            feature_values['employment_type'] == 'FT',\n",
        "                            feature_values['employment_type'] == 'PT',\n",
        "                            feature_values['job_title'] == 'data analyst',\n",
        "                            feature_values['job_title'] == 'data engineer',\n",
        "                            feature_values['job_title'] == 'data scientist',\n",
        "                            feature_values['job_title'] == 'machine learning engineer',\n",
        "                            feature_values['company_size'] == 'M',\n",
        "                            feature_values['company_size'] =='S',\n",
        "                            feature_values['company_size'] =='L',\n",
        "                            feature_values['year'] == 2020,\n",
        "                            feature_values['year'] == 2021,\n",
        "                            feature_values['year'] == 2022,\n",
        "                            feature_values['year'] == 2023]])\n",
        "    prediction = model.predict(input_data)\n",
        "\n",
        "    ranges = [(15000 , 48875),\n",
        "              (48875 , 82750),\n",
        "              (82750 , 116625),\n",
        "              (116625 , 150500),\n",
        "              (150500 , 184375),\n",
        "              (184375 , 218250),\n",
        "              (218250 , 252125),\n",
        "              (252125 , 286000)]\n",
        "    prediction_range = None\n",
        "    for range_min, range_max in ranges:\n",
        "        if range_min <= prediction < range_max:\n",
        "            prediction_range = f\"{range_min:,} - {range_max:,}\"\n",
        "            break\n",
        "\n",
        "    return prediction_range\n",
        "\n",
        "\n",
        "input_features = {\n",
        "    \n",
        "    'experience_level': 'EX',\n",
        "    'employment_type': 'FL',\n",
        "    'job_title': 'data scientist',\n",
        "    'year': 2023,\n",
        "    'company_size': 'L',\n",
        "    'employee_residence': 'Europe',\n",
        "    'company_location' :'Europe',\n",
        "}\n",
        "\n",
        "prediction = make_prediction( input_features)\n",
        "\n",
        "print(\"Prediction:\", prediction)\n"
      ]
    },
    {
      "cell_type": "code",
      "source": [
        "import joblib\n",
        "import pickle\n",
        "with open('sal_model_V4.pkl', 'wb') as f:\n",
        "    pickle.dump(model, f)\n",
        "\n",
        "from google.colab import files\n",
        "files.download('sal_model_V4.pkl')"
      ],
      "metadata": {
        "colab": {
          "base_uri": "https://localhost:8080/",
          "height": 17
        },
        "id": "oKP2lNvmkSFM",
        "outputId": "4ba83d1c-91bc-4f56-ece6-06c29aea2406"
      },
      "id": "oKP2lNvmkSFM",
      "execution_count": 173,
      "outputs": [
        {
          "output_type": "display_data",
          "data": {
            "text/plain": [
              "<IPython.core.display.Javascript object>"
            ],
            "application/javascript": [
              "\n",
              "    async function download(id, filename, size) {\n",
              "      if (!google.colab.kernel.accessAllowed) {\n",
              "        return;\n",
              "      }\n",
              "      const div = document.createElement('div');\n",
              "      const label = document.createElement('label');\n",
              "      label.textContent = `Downloading \"${filename}\": `;\n",
              "      div.appendChild(label);\n",
              "      const progress = document.createElement('progress');\n",
              "      progress.max = size;\n",
              "      div.appendChild(progress);\n",
              "      document.body.appendChild(div);\n",
              "\n",
              "      const buffers = [];\n",
              "      let downloaded = 0;\n",
              "\n",
              "      const channel = await google.colab.kernel.comms.open(id);\n",
              "      // Send a message to notify the kernel that we're ready.\n",
              "      channel.send({})\n",
              "\n",
              "      for await (const message of channel.messages) {\n",
              "        // Send a message to notify the kernel that we're ready.\n",
              "        channel.send({})\n",
              "        if (message.buffers) {\n",
              "          for (const buffer of message.buffers) {\n",
              "            buffers.push(buffer);\n",
              "            downloaded += buffer.byteLength;\n",
              "            progress.value = downloaded;\n",
              "          }\n",
              "        }\n",
              "      }\n",
              "      const blob = new Blob(buffers, {type: 'application/binary'});\n",
              "      const a = document.createElement('a');\n",
              "      a.href = window.URL.createObjectURL(blob);\n",
              "      a.download = filename;\n",
              "      div.appendChild(a);\n",
              "      a.click();\n",
              "      div.remove();\n",
              "    }\n",
              "  "
            ]
          },
          "metadata": {}
        },
        {
          "output_type": "display_data",
          "data": {
            "text/plain": [
              "<IPython.core.display.Javascript object>"
            ],
            "application/javascript": [
              "download(\"download_323e946e-3b05-46c3-83cd-8927340d18df\", \"sal_model_V4.pkl\", 1557)"
            ]
          },
          "metadata": {}
        }
      ]
    },
    {
      "cell_type": "code",
      "execution_count": null,
      "id": "548f708b-1751-4322-ad8f-a1c871eb420e",
      "metadata": {
        "id": "548f708b-1751-4322-ad8f-a1c871eb420e"
      },
      "outputs": [],
      "source": [
        "from google.cloud import storage\n",
        "import pickle\n",
        "\n",
        "# Create a storage client\n",
        "storage_client = storage.Client()\n",
        "\n",
        "# Replace 'your-bucket-name' with the name of your Cloud Storage bucket\n",
        "bucket = storage_client.bucket('cloud-ai-platform-5734b953-00ea-4818-b5b7-3420cd51a628')\n",
        "\n",
        "# Replace 'model.pkl' with the desired name for the saved model file\n",
        "blob = bucket.blob('sal_model_V2.pkl')\n",
        "\n",
        "# Save the trained model to a local file in pickle format\n",
        "with open('sal_model_V2.pkl', 'wb') as f:\n",
        "    pickle.dump(model, f)\n",
        "\n",
        "# Upload the saved model file to Cloud Storage\n",
        "blob.upload_from_filename('sal_model_V2.pkl')\n"
      ]
    },
    {
      "cell_type": "code",
      "execution_count": null,
      "id": "414c2dc8-26a8-43c8-bf67-b5bdf91c4deb",
      "metadata": {
        "id": "414c2dc8-26a8-43c8-bf67-b5bdf91c4deb"
      },
      "outputs": [],
      "source": [
        "from google.cloud import storage\n",
        "\n",
        "# Replace 'your-bucket-name' with the name of your Cloud Storage bucket\n",
        "BUCKET_NAME = 'cloud-ai-platform-5734b953-00ea-4818-b5b7-3420cd51a628'\n",
        "\n",
        "# Replace 'notebook.ipynb' with the name of your Jupyter notebook\n",
        "NOTEBOOK_NAME = 'salary_pred_model.ipynb'\n",
        "\n",
        "# Create a storage client\n",
        "storage_client = storage.Client()\n",
        "\n",
        "# Get a reference to your Cloud Storage bucket\n",
        "bucket = storage_client.bucket(BUCKET_NAME)\n",
        "\n",
        "# Get a reference to a blob in the bucket\n",
        "blob = bucket.blob(NOTEBOOK_NAME)\n",
        "\n",
        "# Upload the Jupyter notebook to Cloud Storage\n",
        "blob.upload_from_filename(NOTEBOOK_NAME)\n"
      ]
    },
    {
      "cell_type": "code",
      "execution_count": null,
      "id": "2066b419-8a7b-4f17-9801-9460d552a021",
      "metadata": {
        "id": "2066b419-8a7b-4f17-9801-9460d552a021"
      },
      "outputs": [],
      "source": []
    }
  ],
  "metadata": {
    "environment": {
      "kernel": "python3",
      "name": "tf2-gpu.2-11.m108",
      "type": "gcloud",
      "uri": "gcr.io/deeplearning-platform-release/tf2-gpu.2-11:m108"
    },
    "kernelspec": {
      "display_name": "Python 3 (ipykernel)",
      "language": "python",
      "name": "python3"
    },
    "language_info": {
      "codemirror_mode": {
        "name": "ipython",
        "version": 3
      },
      "file_extension": ".py",
      "mimetype": "text/x-python",
      "name": "python",
      "nbconvert_exporter": "python",
      "pygments_lexer": "ipython3",
      "version": "3.10.10"
    },
    "colab": {
      "provenance": []
    }
  },
  "nbformat": 4,
  "nbformat_minor": 5
}